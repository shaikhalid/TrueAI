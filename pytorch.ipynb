{
  "nbformat": 4,
  "nbformat_minor": 0,
  "metadata": {
    "colab": {
      "name": "pytorch.ipynb",
      "provenance": [],
      "authorship_tag": "ABX9TyPcXiMoGSfKuBE3mEzlX+mX",
      "include_colab_link": true
    },
    "kernelspec": {
      "name": "python3",
      "display_name": "Python 3"
    },
    "accelerator": "GPU"
  },
  "cells": [
    {
      "cell_type": "markdown",
      "metadata": {
        "id": "view-in-github",
        "colab_type": "text"
      },
      "source": [
        "<a href=\"https://colab.research.google.com/github/shaikhalid/TrueAI/blob/master/pytorch.ipynb\" target=\"_parent\"><img src=\"https://colab.research.google.com/assets/colab-badge.svg\" alt=\"Open In Colab\"/></a>"
      ]
    },
    {
      "cell_type": "markdown",
      "metadata": {
        "id": "VJjU0SXz_F7Q",
        "colab_type": "text"
      },
      "source": [
        "# ***RL PLAYGROUND***\n",
        "\n",
        "```\n",
        "# Aim to build co-ordianting agents to achieve a pre-defined goal\n",
        "```\n",
        "\n"
      ]
    },
    {
      "cell_type": "code",
      "metadata": {
        "id": "f1JNrgrh_c9l",
        "colab_type": "code",
        "outputId": "6077cd22-e769-4d00-f671-2b87d5a8d0e0",
        "colab": {
          "base_uri": "https://localhost:8080/",
          "height": 323
        }
      },
      "source": [
        "!pip3 install torch==1.2.0+cu92 torchvision==0.4.0+cu92 -f https://download.pytorch.org/whl/torch_stable.html"
      ],
      "execution_count": 2,
      "outputs": [
        {
          "output_type": "stream",
          "text": [
            "Looking in links: https://download.pytorch.org/whl/torch_stable.html\n",
            "Collecting torch==1.2.0+cu92\n",
            "\u001b[?25l  Downloading https://download.pytorch.org/whl/cu92/torch-1.2.0%2Bcu92-cp36-cp36m-manylinux1_x86_64.whl (663.1MB)\n",
            "\u001b[K     |████████████████████████████████| 663.1MB 27kB/s \n",
            "\u001b[?25hCollecting torchvision==0.4.0+cu92\n",
            "\u001b[?25l  Downloading https://download.pytorch.org/whl/cu92/torchvision-0.4.0%2Bcu92-cp36-cp36m-manylinux1_x86_64.whl (8.8MB)\n",
            "\u001b[K     |████████████████████████████████| 8.8MB 18.7MB/s \n",
            "\u001b[?25hRequirement already satisfied: numpy in /usr/local/lib/python3.6/dist-packages (from torch==1.2.0+cu92) (1.18.4)\n",
            "Requirement already satisfied: pillow>=4.1.1 in /usr/local/lib/python3.6/dist-packages (from torchvision==0.4.0+cu92) (7.0.0)\n",
            "Requirement already satisfied: six in /usr/local/lib/python3.6/dist-packages (from torchvision==0.4.0+cu92) (1.12.0)\n",
            "Installing collected packages: torch, torchvision\n",
            "  Found existing installation: torch 1.5.0+cu101\n",
            "    Uninstalling torch-1.5.0+cu101:\n",
            "      Successfully uninstalled torch-1.5.0+cu101\n",
            "  Found existing installation: torchvision 0.6.0+cu101\n",
            "    Uninstalling torchvision-0.6.0+cu101:\n",
            "      Successfully uninstalled torchvision-0.6.0+cu101\n",
            "Successfully installed torch-1.2.0+cu92 torchvision-0.4.0+cu92\n"
          ],
          "name": "stdout"
        }
      ]
    },
    {
      "cell_type": "code",
      "metadata": {
        "id": "vrqSlMj-NdnE",
        "colab_type": "code",
        "outputId": "6cd90ba1-5c63-4b4a-cd9b-edbe592dc01c",
        "colab": {
          "base_uri": "https://localhost:8080/",
          "height": 34
        }
      },
      "source": [
        "!python -m pip install 'pillow<6.2.2'"
      ],
      "execution_count": 1,
      "outputs": [
        {
          "output_type": "stream",
          "text": [
            "Requirement already satisfied: pillow<6.2.2 in /usr/local/lib/python3.6/dist-packages (6.2.1)\n"
          ],
          "name": "stdout"
        }
      ]
    },
    {
      "cell_type": "code",
      "metadata": {
        "id": "95zszZO4-1YZ",
        "colab_type": "code",
        "colab": {}
      },
      "source": [
        "import torch\n",
        "import numpy as np\n",
        "import torchvision\n",
        "import torchvision.transforms as transforms\n",
        "import matplotlib.pyplot as plt\n",
        "from google.colab.patches import cv2_imshow\n",
        "from PIL import Image\n"
      ],
      "execution_count": 0,
      "outputs": []
    },
    {
      "cell_type": "code",
      "metadata": {
        "id": "fhd_Nu6gZSLS",
        "colab_type": "code",
        "colab": {}
      },
      "source": [
        "SIZE = 28\n",
        "COLOR_CODE = {\n",
        "    \"agent\":[0,0,255],\n",
        "    \"enemy\":[255,0,0],\n",
        "    \"destination\":[0,255,0]\n",
        "}"
      ],
      "execution_count": 0,
      "outputs": []
    },
    {
      "cell_type": "markdown",
      "metadata": {
        "id": "_6iCk_msVfnT",
        "colab_type": "text"
      },
      "source": [
        "\n",
        "---\n",
        "1.   Environment has Agents\n",
        "2.   Agents take Actions\n",
        "---\n"
      ]
    },
    {
      "cell_type": "code",
      "metadata": {
        "id": "P0HS_W33C8lx",
        "colab_type": "code",
        "colab": {}
      },
      "source": [
        "#gen 1 agent\n",
        "class Agent0:\n",
        "    def __init__(self, pos):\n",
        "        self.pos = pos\n",
        "        #actions\n",
        "        self.actions = ['L', 'R', 'U', 'D']\n",
        "        \n",
        "    def take_action(self, action):\n",
        "        if(action == self.actions[0]):\n",
        "            self.pos['y'] += -1\n",
        "        elif(action == self.actions[1]):\n",
        "            self.pos['y'] += 1\n",
        "        elif(action == self.actions[2]):\n",
        "            self.pos['x'] += -1\n",
        "        elif(action == self.actions[3]):\n",
        "            self.pos['x'] += 1\n",
        "        return\n",
        "        "
      ],
      "execution_count": 0,
      "outputs": []
    },
    {
      "cell_type": "code",
      "metadata": {
        "id": "PlRk3T9sqIKU",
        "colab_type": "code",
        "colab": {}
      },
      "source": [
        "#environment\n",
        "class Env:  \n",
        "    def __init__(self):\n",
        "        #pos of all \n",
        "        self.agent = Agent0({'x':0, 'y':0})\n",
        "        self.enemy_pos = {'x':13, 'y':13} #for gen1 static enemy and destination\n",
        "        self.destination_pos = {'x':27, 'y':27}\n",
        "       \n",
        "    def get_state(self):\n",
        "        return((self.enemy_pos, self.agent.pos, self.destination_pos))\n",
        "\n",
        "    def render(self):\n",
        "        self.data = np.zeros((SIZE, SIZE, 3), dtype=np.uint8)# a 3 color channel 28x28 matrix for redering\n",
        "        self.data[self.agent.pos['x'], self.agent.pos['y']] = COLOR_CODE['agent']# pos of agent\n",
        "        self.data[self.enemy_pos['x'], self.enemy_pos['y']] = COLOR_CODE['enemy']# pos of enemy\n",
        "        self.data[self.destination_pos['x'], self.destination_pos['y']] = COLOR_CODE['destination']# pos of destination\n",
        "\n",
        "        img = Image.fromarray(self.data, 'RGB')# pillow image library\n",
        "        plt.imshow(img)\n",
        "        return\n",
        "\n",
        "    def step(self, action):\n",
        "        reward = 0\n",
        "        self.agent.take_action(action)\n",
        "        state = self.get_state()\n",
        "        return(state, reward)\n",
        "\n",
        "    def reset():\n",
        "        return\n",
        "    \n",
        "    \n"
      ],
      "execution_count": 0,
      "outputs": []
    },
    {
      "cell_type": "code",
      "metadata": {
        "id": "JXCTOp8rIRVa",
        "colab_type": "code",
        "colab": {}
      },
      "source": [
        "env = Env()"
      ],
      "execution_count": 0,
      "outputs": []
    },
    {
      "cell_type": "code",
      "metadata": {
        "id": "unOorh3wIgP5",
        "colab_type": "code",
        "colab": {
          "base_uri": "https://localhost:8080/",
          "height": 282
        },
        "outputId": "95955e00-1e79-4014-9952-2de393ef8509"
      },
      "source": [
        "env.render()\n",
        "print(env.step('L'))\n",
        "env.render()"
      ],
      "execution_count": 72,
      "outputs": [
        {
          "output_type": "stream",
          "text": [
            "(({'x': 13, 'y': 13}, {'x': 0, 'y': -1}, {'x': 27, 'y': 27}), 0)\n"
          ],
          "name": "stdout"
        },
        {
          "output_type": "display_data",
          "data": {
            "image/png": "[encoded data removed]",
            "text/plain": [
              "<Figure size 432x288 with 1 Axes>"
            ]
          },
          "metadata": {
            "tags": [],
            "needs_background": "light"
          }
        }
      ]
    }
  ]
}